{
  "nbformat": 4,
  "nbformat_minor": 0,
  "metadata": {
    "colab": {
      "name": "Introduction(week-1).ipynb",
      "provenance": [],
      "collapsed_sections": [],
      "authorship_tag": "ABX9TyNStofk46P3obgscLnx8sMM",
      "include_colab_link": true
    },
    "kernelspec": {
      "name": "python3",
      "display_name": "Python 3"
    }
  },
  "cells": [
    {
      "cell_type": "markdown",
      "metadata": {
        "id": "view-in-github",
        "colab_type": "text"
      },
      "source": [
        "<a href=\"https://colab.research.google.com/github/Rashiduzzaman2655/OOP-Python-Lab-work--DIU/blob/master/Introduction(week_1).ipynb\" target=\"_parent\"><img src=\"https://colab.research.google.com/assets/colab-badge.svg\" alt=\"Open In Colab\"/></a>"
      ]
    },
    {
      "cell_type": "markdown",
      "metadata": {
        "id": "cBgHt9SB9EX5"
      },
      "source": [
        "#\"Hellow world program\""
      ]
    },
    {
      "cell_type": "code",
      "metadata": {
        "id": "wmB7Epj586t3",
        "outputId": "6a1248b5-77be-46d8-b62c-2624d74931a9",
        "colab": {
          "base_uri": "https://localhost:8080/",
          "height": 34
        }
      },
      "source": [
        "print(\"shakil\")"
      ],
      "execution_count": null,
      "outputs": [
        {
          "output_type": "stream",
          "text": [
            "shakil\n"
          ],
          "name": "stdout"
        }
      ]
    },
    {
      "cell_type": "markdown",
      "metadata": {
        "id": "5bhpcTX19UtQ"
      },
      "source": [
        "#\"Assignment Statement\""
      ]
    },
    {
      "cell_type": "code",
      "metadata": {
        "id": "V7MpEput9Sok",
        "outputId": "62648a0a-c678-4227-f4a5-05829e06886e",
        "colab": {
          "base_uri": "https://localhost:8080/",
          "height": 34
        }
      },
      "source": [
        "num1=10.34\n",
        "num2=34.3\n",
        "sum=num1+num2\n",
        "print(\"summation result: \",sum)"
      ],
      "execution_count": null,
      "outputs": [
        {
          "output_type": "stream",
          "text": [
            "summation result:  44.64\n"
          ],
          "name": "stdout"
        }
      ]
    },
    {
      "cell_type": "code",
      "metadata": {
        "id": "Y1YGgBXxA-BI",
        "outputId": "eb87adc4-e85a-4110-c26d-d82515e51561",
        "colab": {
          "base_uri": "https://localhost:8080/",
          "height": 34
        }
      },
      "source": [
        "f_name=\"Rashiduzzaman \"\n",
        "last_name=\"shakil\"\n",
        "full_name=f_name+last_name;\n",
        "print(\"Name: \",full_name)\n"
      ],
      "execution_count": null,
      "outputs": [
        {
          "output_type": "stream",
          "text": [
            "Name:  Rashiduzzaman shakil\n"
          ],
          "name": "stdout"
        }
      ]
    },
    {
      "cell_type": "code",
      "metadata": {
        "id": "-HVzDOE1CJeK",
        "outputId": "55bdae1e-554e-4118-f597-bb626761a444",
        "colab": {
          "base_uri": "https://localhost:8080/",
          "height": 102
        }
      },
      "source": [
        "name=\"Rashiduzzaman\"\n",
        "id=\"191-15-2655\"\n",
        "section=\"pc-C\"\n",
        "print(\"Student Information:\\n\\nName: \"+name+\"\\nId: \"+id+\"\\nSection: \"+section)"
      ],
      "execution_count": null,
      "outputs": [
        {
          "output_type": "stream",
          "text": [
            "Student Information:\n",
            "\n",
            "Name: Rashiduzzaman\n",
            "Id: 191-15-2655\n",
            "Section: pc-C\n"
          ],
          "name": "stdout"
        }
      ]
    },
    {
      "cell_type": "code",
      "metadata": {
        "id": "M6AKlZPhC_6M",
        "outputId": "898e6e13-7184-4ae6-b980-1d34c648c7b9",
        "colab": {
          "base_uri": "https://localhost:8080/",
          "height": 85
        }
      },
      "source": [
        "name=\"Rashiduzzaman\"\n",
        "age=24\n",
        "blood_group=\"B+\"\n",
        "cell=\"01790430119\"\n",
        "print(\"Name: \"+name+\"\\nAge: \",age)\n",
        "\"\"\"\n",
        "when you want to print a string than you use '+' \n",
        "symbol but if you want to print a non string value \n",
        "than you must to use ',' comma symbol,otherwise you face a error.\n",
        "\"\"\"\n",
        "print(\"Blood Group: \"+blood_group+\"\\nCell: \"+cell)"
      ],
      "execution_count": null,
      "outputs": [
        {
          "output_type": "stream",
          "text": [
            "Name: Rashiduzzaman\n",
            "Age:  24\n",
            "Blood Group: B+\n",
            "Cell: 01790430119\n"
          ],
          "name": "stdout"
        }
      ]
    },
    {
      "cell_type": "markdown",
      "metadata": {
        "id": "Q-iVCTSvGNca"
      },
      "source": [
        "#Find the Data Type"
      ]
    },
    {
      "cell_type": "code",
      "metadata": {
        "id": "20zk12MoGFVW",
        "outputId": "f75923ef-a5d5-48f1-e601-22f4ccf27692",
        "colab": {
          "base_uri": "https://localhost:8080/",
          "height": 34
        }
      },
      "source": [
        "#find integer\n",
        "x=3\n",
        "type(x)"
      ],
      "execution_count": null,
      "outputs": [
        {
          "output_type": "execute_result",
          "data": {
            "text/plain": [
              "int"
            ]
          },
          "metadata": {
            "tags": []
          },
          "execution_count": 13
        }
      ]
    },
    {
      "cell_type": "code",
      "metadata": {
        "id": "Op4LTZxZGh46",
        "outputId": "66ac59ec-99de-4e4d-aaf4-5627f3b43921",
        "colab": {
          "base_uri": "https://localhost:8080/",
          "height": 34
        }
      },
      "source": [
        "#find String\n",
        "x=\"Daffodil International University\"\n",
        "type(x)\n"
      ],
      "execution_count": null,
      "outputs": [
        {
          "output_type": "execute_result",
          "data": {
            "text/plain": [
              "str"
            ]
          },
          "metadata": {
            "tags": []
          },
          "execution_count": 19
        }
      ]
    },
    {
      "cell_type": "code",
      "metadata": {
        "id": "Tfmr1J2OHauC",
        "outputId": "06c998c7-244c-4225-a220-f7750cb3fa03",
        "colab": {
          "base_uri": "https://localhost:8080/",
          "height": 34
        }
      },
      "source": [
        "#find float\n",
        "x=4.09999999\n",
        "type(x)"
      ],
      "execution_count": null,
      "outputs": [
        {
          "output_type": "execute_result",
          "data": {
            "text/plain": [
              "float"
            ]
          },
          "metadata": {
            "tags": []
          },
          "execution_count": 17
        }
      ]
    },
    {
      "cell_type": "code",
      "metadata": {
        "id": "Q_13stIyIg_L",
        "outputId": "42b2536a-78d2-4dd9-822c-64afd74400b9",
        "colab": {
          "base_uri": "https://localhost:8080/",
          "height": 34
        }
      },
      "source": [
        "#find Boolean\n",
        "x=True\n",
        "type(x)"
      ],
      "execution_count": null,
      "outputs": [
        {
          "output_type": "execute_result",
          "data": {
            "text/plain": [
              "bool"
            ]
          },
          "metadata": {
            "tags": []
          },
          "execution_count": 24
        }
      ]
    },
    {
      "cell_type": "markdown",
      "metadata": {
        "id": "5QUor2ITt5_L"
      },
      "source": [
        "#Input From User"
      ]
    },
    {
      "cell_type": "code",
      "metadata": {
        "id": "Vwq5JEBPt5Ao",
        "outputId": "eff529c6-3a2d-42c3-90b3-3a488b17a92f",
        "colab": {
          "base_uri": "https://localhost:8080/",
          "height": 68
        }
      },
      "source": [
        "f_name= input(\"Enter your first name: \")\n",
        "l_name=input(\"Enter your last name: \")\n",
        "name=f_name+l_name;\n",
        "print(name)\n"
      ],
      "execution_count": null,
      "outputs": [
        {
          "output_type": "stream",
          "text": [
            "Enter your first name: shakil\n",
            "Enter your last name: ahmed\n",
            "shakilahmed\n"
          ],
          "name": "stdout"
        }
      ]
    },
    {
      "cell_type": "code",
      "metadata": {
        "id": "GpMTazjCvSS5",
        "outputId": "7b083811-6405-4311-e886-755e97cee10c",
        "colab": {
          "base_uri": "https://localhost:8080/",
          "height": 68
        }
      },
      "source": [
        "num1=input(\"Enter first number: \")\n",
        "num2=input(\"Enter sceond number: \")\n",
        "sum=num1+num2\n",
        "print(sum)"
      ],
      "execution_count": null,
      "outputs": [
        {
          "output_type": "stream",
          "text": [
            "Enter first number: 12\n",
            "Enter sceond number: 32\n",
            "1232\n"
          ],
          "name": "stdout"
        }
      ]
    },
    {
      "cell_type": "code",
      "metadata": {
        "id": "xnahM56ruQaO",
        "outputId": "ecbb09cb-d07a-47b5-a2b3-bc798d8280c3",
        "colab": {
          "base_uri": "https://localhost:8080/",
          "height": 68
        }
      },
      "source": [
        "num1=input(\"Enter first number\")\n",
        "num2=input(\"Enter sceond number\")\n",
        "sum=(int(num1))+(int(num2))\n",
        "print(\"Sum :\",sum)"
      ],
      "execution_count": null,
      "outputs": [
        {
          "output_type": "stream",
          "text": [
            "Enter first number12\n",
            "Enter sceond number22\n",
            "Sum : 34\n"
          ],
          "name": "stdout"
        }
      ]
    },
    {
      "cell_type": "code",
      "metadata": {
        "id": "uWYTIV-Axyfk",
        "outputId": "27c539b0-1aea-4352-928c-c5eadbe20b70",
        "colab": {
          "base_uri": "https://localhost:8080/",
          "height": 68
        }
      },
      "source": [
        "num1=float(input(\"Enter first number\"))\n",
        "num2=float(input(\"Enter sceond number\"))\n",
        "sum=num1+num2\n",
        "print(\"Sum :\",sum)"
      ],
      "execution_count": null,
      "outputs": [
        {
          "output_type": "stream",
          "text": [
            "Enter first number12.345\n",
            "Enter sceond number24.432\n",
            "Sum : 36.777\n"
          ],
          "name": "stdout"
        }
      ]
    },
    {
      "cell_type": "markdown",
      "metadata": {
        "id": "HRtTpA-5yTiv"
      },
      "source": [
        "# Arithmatic Operators"
      ]
    },
    {
      "cell_type": "code",
      "metadata": {
        "id": "0i-lAKFRyQQp",
        "outputId": "46a7e6f6-0439-408c-f7dd-bc53efa8784e",
        "colab": {
          "base_uri": "https://localhost:8080/",
          "height": 34
        }
      },
      "source": [
        "#Addition\n",
        "add=(12+324)\n",
        "print(add)"
      ],
      "execution_count": null,
      "outputs": [
        {
          "output_type": "stream",
          "text": [
            "336\n"
          ],
          "name": "stdout"
        }
      ]
    },
    {
      "cell_type": "code",
      "metadata": {
        "id": "YNq1SWdVzK3w"
      },
      "source": [
        "#subtraction\n",
        "sub=23-43\n",
        "print(sub)"
      ],
      "execution_count": null,
      "outputs": []
    },
    {
      "cell_type": "code",
      "metadata": {
        "id": "owripj_PzUUK",
        "outputId": "4ec12ff1-3438-4502-f6e3-8d483b661ff3",
        "colab": {
          "base_uri": "https://localhost:8080/",
          "height": 34
        }
      },
      "source": [
        "#Multiplication\n",
        "multiplication=21*6\n",
        "print(multiplication)"
      ],
      "execution_count": null,
      "outputs": [
        {
          "output_type": "stream",
          "text": [
            "126\n"
          ],
          "name": "stdout"
        }
      ]
    },
    {
      "cell_type": "code",
      "metadata": {
        "id": "foVDePUjzeVu",
        "outputId": "7e5c471c-0436-4766-c9b3-4debc99f6e8c",
        "colab": {
          "base_uri": "https://localhost:8080/",
          "height": 34
        }
      },
      "source": [
        "#division\n",
        "division=123/4\n",
        "print(division)\n"
      ],
      "execution_count": null,
      "outputs": [
        {
          "output_type": "stream",
          "text": [
            "30.75\n"
          ],
          "name": "stdout"
        }
      ]
    },
    {
      "cell_type": "code",
      "metadata": {
        "id": "U-FF6FT20AlU",
        "outputId": "433f62dd-94c8-49f4-9136-595f1bafccb6",
        "colab": {
          "base_uri": "https://localhost:8080/",
          "height": 34
        }
      },
      "source": [
        "\"\"\"Remainder:\n",
        "The remainder is the amount \"left over\" after performing some computation.It is denoted by '%'\n",
        " \"\"\"\n",
        "remainder=27%4\n",
        "print(remainder)"
      ],
      "execution_count": null,
      "outputs": [
        {
          "output_type": "stream",
          "text": [
            "3\n"
          ],
          "name": "stdout"
        }
      ]
    },
    {
      "cell_type": "code",
      "metadata": {
        "id": "n9pdSntY4PdO",
        "outputId": "8070d2a7-082f-4348-e95e-93f0d6ae36b5",
        "colab": {
          "base_uri": "https://localhost:8080/",
          "height": 34
        }
      },
      "source": [
        "\"\"\"floor: This python math floor function is used to return the closest integer value which is less than or equal to the specified expression or Value.\n",
        "it is defined by '//'  \"\"\"\n",
        "\n",
        "x=34//3\n",
        "print(x)\n"
      ],
      "execution_count": null,
      "outputs": [
        {
          "output_type": "stream",
          "text": [
            "11\n"
          ],
          "name": "stdout"
        }
      ]
    },
    {
      "cell_type": "code",
      "metadata": {
        "id": "tlUJUepk45eX",
        "outputId": "7d02a11d-99e4-4a36-dc5a-0ee221144998",
        "colab": {
          "base_uri": "https://localhost:8080/",
          "height": 34
        }
      },
      "source": [
        "\"\"\"Exponential. \n",
        "suppose 2**3 that means 2*2*2\n",
        "\"\"\"\n",
        "x=6**3\n",
        "print(x)"
      ],
      "execution_count": null,
      "outputs": [
        {
          "output_type": "stream",
          "text": [
            "216\n"
          ],
          "name": "stdout"
        }
      ]
    },
    {
      "cell_type": "code",
      "metadata": {
        "id": "kUXQBjEw5zGk",
        "outputId": "6757ca34-031a-4c2b-c6b6-f0c3489ec08c",
        "colab": {
          "base_uri": "https://localhost:8080/",
          "height": 34
        }
      },
      "source": [
        "#find power\n",
        "x=pow(5,2)\n",
        "print(x)"
      ],
      "execution_count": null,
      "outputs": [
        {
          "output_type": "stream",
          "text": [
            "25\n"
          ],
          "name": "stdout"
        }
      ]
    },
    {
      "cell_type": "code",
      "metadata": {
        "id": "En9Ky9ut6ATY",
        "outputId": "c005933b-b4f6-4024-d608-84bdc812473b",
        "colab": {
          "base_uri": "https://localhost:8080/",
          "height": 34
        }
      },
      "source": [
        "#find square\n",
        "# when we use sqrt() method then we must be import math library .\n",
        "from math import*\n",
        "value=225\n",
        "result=sqrt(value)\n",
        "print(result)"
      ],
      "execution_count": null,
      "outputs": [
        {
          "output_type": "stream",
          "text": [
            "15.0\n"
          ],
          "name": "stdout"
        }
      ]
    },
    {
      "cell_type": "code",
      "metadata": {
        "id": "PhzdpRKN7guz",
        "outputId": "e92c20ca-7b91-407f-aec2-d2a2d2c06282",
        "colab": {
          "base_uri": "https://localhost:8080/",
          "height": 34
        }
      },
      "source": [
        "#abs() method.The abs() function is used to return the absolute value of a number.\n",
        "num=abs(-234.2534)\n",
        "print(num)"
      ],
      "execution_count": null,
      "outputs": [
        {
          "output_type": "stream",
          "text": [
            "234.2534\n"
          ],
          "name": "stdout"
        }
      ]
    },
    {
      "cell_type": "markdown",
      "metadata": {
        "id": "PQ7aGxwP8Ofz"
      },
      "source": [
        "#Relational Operator"
      ]
    },
    {
      "cell_type": "code",
      "metadata": {
        "id": "aSm45id38N2m",
        "outputId": "026460d1-541a-42ac-95ad-9b4b1b991aab",
        "colab": {
          "base_uri": "https://localhost:8080/",
          "height": 34
        }
      },
      "source": [
        "num1=23\n",
        "num2=78\n",
        "num1>num2\n"
      ],
      "execution_count": null,
      "outputs": [
        {
          "output_type": "execute_result",
          "data": {
            "text/plain": [
              "False"
            ]
          },
          "metadata": {
            "tags": []
          },
          "execution_count": 42
        }
      ]
    },
    {
      "cell_type": "code",
      "metadata": {
        "id": "OaCUA25Y93h6",
        "outputId": "53a68be6-cf96-4517-aa83-157bbac2489b",
        "colab": {
          "base_uri": "https://localhost:8080/",
          "height": 34
        }
      },
      "source": [
        "num1<num2"
      ],
      "execution_count": null,
      "outputs": [
        {
          "output_type": "execute_result",
          "data": {
            "text/plain": [
              "True"
            ]
          },
          "metadata": {
            "tags": []
          },
          "execution_count": 43
        }
      ]
    },
    {
      "cell_type": "code",
      "metadata": {
        "id": "vaoaIgZj976-",
        "outputId": "19d7d72d-63b9-4bb8-de36-cda62ed5f7e4",
        "colab": {
          "base_uri": "https://localhost:8080/",
          "height": 34
        }
      },
      "source": [
        "num1==num2"
      ],
      "execution_count": null,
      "outputs": [
        {
          "output_type": "execute_result",
          "data": {
            "text/plain": [
              "False"
            ]
          },
          "metadata": {
            "tags": []
          },
          "execution_count": 44
        }
      ]
    },
    {
      "cell_type": "code",
      "metadata": {
        "id": "oZg848Z89_lD",
        "outputId": "8dab4563-0e95-4bc3-c5a9-b59996e4c540",
        "colab": {
          "base_uri": "https://localhost:8080/",
          "height": 34
        }
      },
      "source": [
        "num1>=num2"
      ],
      "execution_count": null,
      "outputs": [
        {
          "output_type": "execute_result",
          "data": {
            "text/plain": [
              "False"
            ]
          },
          "metadata": {
            "tags": []
          },
          "execution_count": 45
        }
      ]
    },
    {
      "cell_type": "code",
      "metadata": {
        "id": "VAMgDD2T-Dbv",
        "outputId": "9372f3b3-6baa-450f-cde0-131d3531bb5b",
        "colab": {
          "base_uri": "https://localhost:8080/",
          "height": 34
        }
      },
      "source": [
        "num1<=num2"
      ],
      "execution_count": null,
      "outputs": [
        {
          "output_type": "execute_result",
          "data": {
            "text/plain": [
              "True"
            ]
          },
          "metadata": {
            "tags": []
          },
          "execution_count": 46
        }
      ]
    },
    {
      "cell_type": "code",
      "metadata": {
        "id": "yQzCkjxi-Gpn",
        "outputId": "fe241bc4-96b4-4afd-e562-3330894c0b6b",
        "colab": {
          "base_uri": "https://localhost:8080/",
          "height": 34
        }
      },
      "source": [
        "num1!=num2"
      ],
      "execution_count": null,
      "outputs": [
        {
          "output_type": "execute_result",
          "data": {
            "text/plain": [
              "True"
            ]
          },
          "metadata": {
            "tags": []
          },
          "execution_count": 47
        }
      ]
    },
    {
      "cell_type": "code",
      "metadata": {
        "id": "t90xj2p3-KA-",
        "outputId": "d1f8738e-7d8a-4b4c-b97a-51a4ace03b2d",
        "colab": {
          "base_uri": "https://localhost:8080/",
          "height": 34
        }
      },
      "source": [
        "20<num1<=34"
      ],
      "execution_count": null,
      "outputs": [
        {
          "output_type": "execute_result",
          "data": {
            "text/plain": [
              "True"
            ]
          },
          "metadata": {
            "tags": []
          },
          "execution_count": 48
        }
      ]
    },
    {
      "cell_type": "markdown",
      "metadata": {
        "id": "4k3GgYlA-WxW"
      },
      "source": [
        "#Solving problem\n",
        "\n",
        "Determining the Minimum and Maximum with Built-In Functions min and max"
      ]
    },
    {
      "cell_type": "code",
      "metadata": {
        "id": "dJ-tX1U_-WCb",
        "outputId": "305b520c-7a45-41c5-d7dc-d514fa2ddecb",
        "colab": {
          "base_uri": "https://localhost:8080/",
          "height": 85
        }
      },
      "source": [
        "num1=int(input(\"Enter first Number: \"))\n",
        "num2=int(input(\"Enter second Number: \"))\n",
        "num3=int(input(\"Enter Third Number: \"))\n",
        "\n",
        "max(num1,num2,num3)"
      ],
      "execution_count": null,
      "outputs": [
        {
          "output_type": "stream",
          "text": [
            "Enter first Number: 3 \n",
            "Enter second Number: 543\n",
            "Enter Third Number: 34\n"
          ],
          "name": "stdout"
        },
        {
          "output_type": "execute_result",
          "data": {
            "text/plain": [
              "543"
            ]
          },
          "metadata": {
            "tags": []
          },
          "execution_count": 56
        }
      ]
    },
    {
      "cell_type": "code",
      "metadata": {
        "id": "f0OsFGWxA6i_",
        "outputId": "57121b92-4679-41d1-84c3-c20a813258b2",
        "colab": {
          "base_uri": "https://localhost:8080/",
          "height": 34
        }
      },
      "source": [
        "min(num1,num2,num3)"
      ],
      "execution_count": null,
      "outputs": [
        {
          "output_type": "execute_result",
          "data": {
            "text/plain": [
              "3"
            ]
          },
          "metadata": {
            "tags": []
          },
          "execution_count": 57
        }
      ]
    },
    {
      "cell_type": "markdown",
      "metadata": {
        "id": "5mK7Q3bPBJgJ"
      },
      "source": [
        "#Exercise\n",
        "\n",
        "Create the variables x = 2 and y = 3, then determine what each of the following statements displays:\n",
        "\n",
        ". print('x =', x)\n",
        "\n",
        ". print('Value of', x, '+', x, 'is', (x + x))\n",
        "\n",
        ". print('x =')\n",
        "\n",
        ". print((x + y), '=', (y + x))\n"
      ]
    },
    {
      "cell_type": "code",
      "metadata": {
        "id": "PE6mWlv1CMPb",
        "outputId": "85c18f8c-245e-4b26-b07c-f711f5c1249b",
        "colab": {
          "base_uri": "https://localhost:8080/",
          "height": 34
        }
      },
      "source": [
        "print('x =', x)"
      ],
      "execution_count": null,
      "outputs": [
        {
          "output_type": "stream",
          "text": [
            "x = 2\n"
          ],
          "name": "stdout"
        }
      ]
    },
    {
      "cell_type": "code",
      "metadata": {
        "id": "XhK2M7itCQ78",
        "outputId": "afcecc17-3ecc-4568-ce65-2e031c405a2c",
        "colab": {
          "base_uri": "https://localhost:8080/",
          "height": 34
        }
      },
      "source": [
        "print('Value of', x, '+', x, 'is', (x + x))"
      ],
      "execution_count": null,
      "outputs": [
        {
          "output_type": "stream",
          "text": [
            "Value of 2 + 2 is 4\n"
          ],
          "name": "stdout"
        }
      ]
    },
    {
      "cell_type": "code",
      "metadata": {
        "id": "r0O8t2QbCdgT",
        "outputId": "7865d8a9-0573-4f67-d33a-3ef45398979c",
        "colab": {
          "base_uri": "https://localhost:8080/",
          "height": 34
        }
      },
      "source": [
        "print('x =')"
      ],
      "execution_count": null,
      "outputs": [
        {
          "output_type": "stream",
          "text": [
            "x =\n"
          ],
          "name": "stdout"
        }
      ]
    },
    {
      "cell_type": "code",
      "metadata": {
        "id": "WGVGtgNjChZK",
        "outputId": "8f25952c-cbfb-4544-b4de-84731fd46622",
        "colab": {
          "base_uri": "https://localhost:8080/",
          "height": 34
        }
      },
      "source": [
        "print((x + y), '=', (y + x))"
      ],
      "execution_count": null,
      "outputs": [
        {
          "output_type": "stream",
          "text": [
            "5 = 5\n"
          ],
          "name": "stdout"
        }
      ]
    }
  ]
}