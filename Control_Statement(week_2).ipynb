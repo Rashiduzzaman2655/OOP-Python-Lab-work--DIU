{
  "nbformat": 4,
  "nbformat_minor": 0,
  "metadata": {
    "colab": {
      "name": "Control Statement(week-2).ipynb",
      "provenance": [],
      "collapsed_sections": [],
      "include_colab_link": true
    },
    "kernelspec": {
      "name": "python3",
      "display_name": "Python 3"
    }
  },
  "cells": [
    {
      "cell_type": "markdown",
      "metadata": {
        "id": "view-in-github",
        "colab_type": "text"
      },
      "source": [
        "<a href=\"https://colab.research.google.com/github/Rashiduzzaman2655/OOP-Python-Lab-work--DIU/blob/master/Control_Statement(week_2).ipynb\" target=\"_parent\"><img src=\"https://colab.research.google.com/assets/colab-badge.svg\" alt=\"Open In Colab\"/></a>"
      ]
    },
    {
      "cell_type": "markdown",
      "metadata": {
        "id": "RWwwRU2I2lI7"
      },
      "source": [
        "# **IF statement**\n",
        "\n",
        "---\n",
        "\n"
      ]
    },
    {
      "cell_type": "code",
      "metadata": {
        "id": "a-PKtStV2Nlk",
        "outputId": "52103185-7229-49e7-847a-8d48788502b6",
        "colab": {
          "base_uri": "https://localhost:8080/",
          "height": 34
        }
      },
      "source": [
        "grade = 76\n",
        "if grade>=60:\n",
        "  print(\"passed\")"
      ],
      "execution_count": null,
      "outputs": [
        {
          "output_type": "stream",
          "text": [
            "passed\n"
          ],
          "name": "stdout"
        }
      ]
    },
    {
      "cell_type": "markdown",
      "metadata": {
        "id": "mY8fFeAL6Ex_"
      },
      "source": [
        "# **If else statement**\n",
        "\n",
        "---\n",
        "\n"
      ]
    },
    {
      "cell_type": "code",
      "metadata": {
        "id": "E7pGGza858UI",
        "outputId": "03e049bb-142f-419a-a5cc-9dc432694983",
        "colab": {
          "base_uri": "https://localhost:8080/",
          "height": 51
        }
      },
      "source": [
        "grade =float(input(\"Enter your mark: \"))\n",
        "if grade>=33:\n",
        "  print(\"passed\")\n",
        "else:\n",
        "  print(\"fail\")"
      ],
      "execution_count": null,
      "outputs": [
        {
          "output_type": "stream",
          "text": [
            "Enter your mark: 32\n",
            "fail\n"
          ],
          "name": "stdout"
        }
      ]
    },
    {
      "cell_type": "code",
      "metadata": {
        "id": "wzuF_MumAlKA",
        "outputId": "00f3ff50-248e-4e24-a1b5-d98ba00c18e4",
        "colab": {
          "base_uri": "https://localhost:8080/",
          "height": 51
        }
      },
      "source": [
        "Input=int(input(\"Enter any integer value:\"))\n",
        "if Input%2==0:\n",
        "    print(\"Even\")\n",
        "else:\n",
        "    print(\"odd\")\n"
      ],
      "execution_count": null,
      "outputs": [
        {
          "output_type": "stream",
          "text": [
            "Enter any integer value:45\n",
            "odd\n"
          ],
          "name": "stdout"
        }
      ]
    },
    {
      "cell_type": "markdown",
      "metadata": {
        "id": "4m7Beuk99_f6"
      },
      "source": [
        "#Logical Operator\n",
        "and, or"
      ]
    },
    {
      "cell_type": "code",
      "metadata": {
        "id": "nrw-HKUA90ms",
        "outputId": "2406151c-aee1-4413-b058-666426c53c79",
        "colab": {
          "base_uri": "https://localhost:8080/",
          "height": 34
        }
      },
      "source": [
        "#find Maximum Number\n",
        "num1=32\n",
        "num2=34\n",
        "num3=45\n",
        "if num1>num2 and num1>num3:\n",
        "    print(\"Maximum Number: \",num1)\n",
        "elif num2>num1 and num2>num3:\n",
        "    print(\"Maximum Number: \",num2)\n",
        "else:\n",
        "    print(\"Maximum Number: \",num3)\n",
        "\n"
      ],
      "execution_count": null,
      "outputs": [
        {
          "output_type": "stream",
          "text": [
            "Maximum Number:  45\n"
          ],
          "name": "stdout"
        }
      ]
    },
    {
      "cell_type": "code",
      "metadata": {
        "id": "4FsqWuSg-Z48",
        "outputId": "2bed073b-5394-43b6-ee13-24e8da249ac5",
        "colab": {
          "base_uri": "https://localhost:8080/",
          "height": 34
        }
      },
      "source": [
        "#find Minimum number\n",
        "num1=32\n",
        "num2=34\n",
        "num3=45\n",
        "if num1<num2 and num1<num3:\n",
        "    print(\"Minimum Number: \",num1)\n",
        "elif num2<num1 and num2<num3:\n",
        "    print(\"Minimum Number: \",num2)\n",
        "else:\n",
        "    print(\"Minimum Number: \",num3)\n",
        "\n"
      ],
      "execution_count": null,
      "outputs": [
        {
          "output_type": "stream",
          "text": [
            "Minimum Number:  32\n"
          ],
          "name": "stdout"
        }
      ]
    },
    {
      "cell_type": "code",
      "metadata": {
        "id": "9YlClntm_CTN",
        "outputId": "b647c3c1-7136-496e-fa78-b6d75cafb99d",
        "colab": {
          "base_uri": "https://localhost:8080/",
          "height": 34
        }
      },
      "source": [
        "#find maximum number using ternary operator\n",
        "num1=32\n",
        "num2=34\n",
        "max= num1 if num1>num2 else num2\n",
        "print(\"Maximum Number: \",max)\n"
      ],
      "execution_count": null,
      "outputs": [
        {
          "output_type": "stream",
          "text": [
            "Maximum Number:  34\n"
          ],
          "name": "stdout"
        }
      ]
    },
    {
      "cell_type": "markdown",
      "metadata": {
        "id": "KYJsrBAa6lKm"
      },
      "source": [
        "#Conditional Statement"
      ]
    },
    {
      "cell_type": "code",
      "metadata": {
        "id": "wf7TA-QZ-ed3",
        "outputId": "04f895b1-3478-4992-9bcd-5ee89e1526a6",
        "colab": {
          "base_uri": "https://localhost:8080/",
          "height": 51
        }
      },
      "source": [
        "mark=float(input(\"Enter your mark: \"))\n",
        "if mark>=80:\n",
        "  print(\"A+\")\n",
        "elif mark>=70:\n",
        "  print(\"A\")\n",
        "elif mark>=60:\n",
        "  print(\"A-\")\n",
        "elif mark>=50:\n",
        "  print(\"B\")\n",
        "elif mark>=40:\n",
        "  print(\"C\")\n",
        "elif mark>=33:\n",
        "  print(\"D\")\n",
        "else:\n",
        "  print(\"F\")"
      ],
      "execution_count": null,
      "outputs": [
        {
          "output_type": "stream",
          "text": [
            "Enter your mark: 88\n",
            "A+\n"
          ],
          "name": "stdout"
        }
      ]
    },
    {
      "cell_type": "code",
      "metadata": {
        "id": "XOQB5rWfCk_V",
        "outputId": "8b3ffee6-5ffc-4687-a618-139638e78fd2",
        "colab": {
          "base_uri": "https://localhost:8080/",
          "height": 51
        }
      },
      "source": [
        "ch= input(\"Enter any character: \");\n",
        "if ch=='a' or ch=='e' or ch=='i' or ch=='o' or ch=='u' or ch=='A' or  ch=='E' or ch=='I' or ch=='O' or ch=='U':\n",
        "    print(\"vowel\")\n",
        "else:\n",
        "    print(\"consonant\")\n"
      ],
      "execution_count": null,
      "outputs": [
        {
          "output_type": "stream",
          "text": [
            "Enter any character: a\n",
            "vowel\n"
          ],
          "name": "stdout"
        }
      ]
    },
    {
      "cell_type": "markdown",
      "metadata": {
        "id": "Ge3NK7SC8orQ"
      },
      "source": [
        "# **While Statement**\n",
        "\n",
        "---\n",
        "\n"
      ]
    },
    {
      "cell_type": "code",
      "metadata": {
        "id": "m00-GUff73Lt",
        "outputId": "2aa2efd3-159a-479a-dfb4-dd6f20e9ad92",
        "colab": {
          "base_uri": "https://localhost:8080/",
          "height": 34
        }
      },
      "source": [
        "number = 1\n",
        "\n",
        "while (number<10):\n",
        "  print(number, end=\" \") #print in same line with space using end =\" \"\n",
        "  number+=1"
      ],
      "execution_count": null,
      "outputs": [
        {
          "output_type": "stream",
          "text": [
            "1 2 3 4 5 6 7 8 9 "
          ],
          "name": "stdout"
        }
      ]
    },
    {
      "cell_type": "code",
      "metadata": {
        "id": "p3fyND3hA3Sp",
        "outputId": "a4698c75-032a-4774-a9af-976633964324",
        "colab": {
          "base_uri": "https://localhost:8080/",
          "height": 34
        }
      },
      "source": [
        "num =1\n",
        "while(num<=20):\n",
        "  print(num, end=\" \")\n",
        "  num+=1"
      ],
      "execution_count": null,
      "outputs": [
        {
          "output_type": "stream",
          "text": [
            "1 2 3 4 5 6 7 8 9 10 11 12 13 14 15 16 17 18 19 20 "
          ],
          "name": "stdout"
        }
      ]
    },
    {
      "cell_type": "code",
      "metadata": {
        "id": "xmE-ob7QBTIz",
        "outputId": "007d592d-598d-4930-e372-00fe067ba3be",
        "colab": {
          "base_uri": "https://localhost:8080/",
          "height": 34
        }
      },
      "source": [
        "#find even number form 1 to 100\n",
        "num=1\n",
        "while (num<=100):\n",
        "    if num%2==0:\n",
        "     print(num,end=\" \")\n",
        "    num+=1"
      ],
      "execution_count": null,
      "outputs": [
        {
          "output_type": "stream",
          "text": [
            "2 4 6 8 10 12 14 16 18 20 22 24 26 28 30 32 34 36 38 40 42 44 46 48 50 52 54 56 58 60 62 64 66 68 70 72 74 76 78 80 82 84 86 88 90 92 94 96 98 100 "
          ],
          "name": "stdout"
        }
      ]
    },
    {
      "cell_type": "code",
      "metadata": {
        "id": "3qZrinLhXRI_",
        "outputId": "6ac34b5b-82f5-4129-ae08-3b4789d87142",
        "colab": {
          "base_uri": "https://localhost:8080/",
          "height": 34
        }
      },
      "source": [
        "#find odd number form 1 to 100\n",
        "num=1\n",
        "while (num<=100):\n",
        "    if num%2!=0:\n",
        "     print(num,end=\" \")\n",
        "    num+=1"
      ],
      "execution_count": null,
      "outputs": [
        {
          "output_type": "stream",
          "text": [
            "1 3 5 7 9 11 13 15 17 19 21 23 25 27 29 31 33 35 37 39 41 43 45 47 49 51 53 55 57 59 61 63 65 67 69 71 73 75 77 79 81 83 85 87 89 91 93 95 97 99 "
          ],
          "name": "stdout"
        }
      ]
    },
    {
      "cell_type": "code",
      "metadata": {
        "id": "NITcpdaIXsVj",
        "outputId": "9f794bbd-b8b1-4334-9510-cdd6eef09e4f",
        "colab": {
          "base_uri": "https://localhost:8080/",
          "height": 51
        }
      },
      "source": [
        "last=int(input())\n",
        "i =1\n",
        "sum=0\n",
        "while(i<=last):\n",
        "  sum+=i\n",
        "  i+=1\n",
        "print(f\"{1} to {last} summation result: \",sum)"
      ],
      "execution_count": null,
      "outputs": [
        {
          "output_type": "stream",
          "text": [
            "20\n",
            "1 to 20 summation result:  210\n"
          ],
          "name": "stdout"
        }
      ]
    },
    {
      "cell_type": "markdown",
      "metadata": {
        "id": "7SZDrmd_9YL8"
      },
      "source": [
        "*while statement to find the first power of 3 larger than 50:*"
      ]
    },
    {
      "cell_type": "code",
      "metadata": {
        "id": "C2KqW8yC8-j2"
      },
      "source": [
        "product = 3\n",
        "\n",
        "while product<=50:\n",
        "  product = product*3"
      ],
      "execution_count": null,
      "outputs": []
    },
    {
      "cell_type": "code",
      "metadata": {
        "id": "8ktBxeIN9jfR",
        "outputId": "edf7d18f-c103-4099-f13e-08bdeb28e1ff",
        "colab": {
          "base_uri": "https://localhost:8080/",
          "height": 34
        }
      },
      "source": [
        "print(product)"
      ],
      "execution_count": null,
      "outputs": [
        {
          "output_type": "stream",
          "text": [
            "81\n"
          ],
          "name": "stdout"
        }
      ]
    },
    {
      "cell_type": "markdown",
      "metadata": {
        "id": "zI_adojp93oI"
      },
      "source": [
        "# **For statement**\n",
        "\n",
        "---\n",
        "\n"
      ]
    },
    {
      "cell_type": "code",
      "metadata": {
        "id": "EJqNndZI9yzW",
        "outputId": "385191b6-1475-4eb0-cb25-b4113d0e3fcc",
        "colab": {
          "base_uri": "https://localhost:8080/",
          "height": 34
        }
      },
      "source": [
        "name=\"Bangladesh\"\n",
        "for x in name:\n",
        "    print(x,end=\" \")"
      ],
      "execution_count": null,
      "outputs": [
        {
          "output_type": "stream",
          "text": [
            "B a n g l a d e s h "
          ],
          "name": "stdout"
        }
      ]
    },
    {
      "cell_type": "markdown",
      "metadata": {
        "id": "k1qXd6Ur-eqQ"
      },
      "source": [
        "*Built in Range Function*"
      ]
    },
    {
      "cell_type": "markdown",
      "metadata": {
        "id": "kfTYsLmn-uwj"
      },
      "source": [
        "*Let’s use a for statement and the built-in range function to iterate precisely 10 times, displaying the values from 0 through 9:*"
      ]
    },
    {
      "cell_type": "code",
      "metadata": {
        "id": "Ag7GpFeM-UjP",
        "outputId": "e5049f6a-b689-4fd4-d4e6-68f0fe0e51e5",
        "colab": {
          "base_uri": "https://localhost:8080/",
          "height": 34
        }
      },
      "source": [
        "for counter in range(20):\n",
        "  print(counter, end=\" \")"
      ],
      "execution_count": null,
      "outputs": [
        {
          "output_type": "stream",
          "text": [
            "0 1 2 3 4 5 6 7 8 9 10 11 12 13 14 15 16 17 18 19 "
          ],
          "name": "stdout"
        }
      ]
    },
    {
      "cell_type": "markdown",
      "metadata": {
        "id": "cvPHvYq3_K1s"
      },
      "source": [
        "Use the range function and a for statement to calculate the total of the integers from 0 through 1,000,000.\n"
      ]
    },
    {
      "cell_type": "code",
      "metadata": {
        "id": "9T3eru-p-9Fo",
        "outputId": "4ec21d79-1da4-4f60-bdfe-7d7ec7c7d622",
        "colab": {
          "base_uri": "https://localhost:8080/",
          "height": 34
        }
      },
      "source": [
        "total = 0\n",
        "for number in range(100):\n",
        "  total = total+number\n",
        "\n",
        "print(total)"
      ],
      "execution_count": null,
      "outputs": [
        {
          "output_type": "stream",
          "text": [
            "4950\n"
          ],
          "name": "stdout"
        }
      ]
    },
    {
      "cell_type": "markdown",
      "metadata": {
        "id": "3tsnt0yr_xDt"
      },
      "source": [
        "Function range also has two- and three-argument versions. As you’ve seen, range’s one argument version produces a sequence of consecutive integers from 0 up to, but not including, the argument’s value. Function range’s two-argument version produces a sequence of consecutive integers from its first argument’s value up to, but not including, the second argument’s value, as in:\n"
      ]
    },
    {
      "cell_type": "code",
      "metadata": {
        "id": "sd-DpDDw_g0u",
        "outputId": "7d229b83-514f-46ed-fdd1-c2b877ec2eb3",
        "colab": {
          "base_uri": "https://localhost:8080/",
          "height": 34
        }
      },
      "source": [
        "for number in range(1,11):\n",
        "  print(number, end=\" \")"
      ],
      "execution_count": null,
      "outputs": [
        {
          "output_type": "stream",
          "text": [
            "1 2 3 4 5 6 7 8 9 10 "
          ],
          "name": "stdout"
        }
      ]
    },
    {
      "cell_type": "markdown",
      "metadata": {
        "id": "DdS1ei_OAJfH"
      },
      "source": [
        "Function range’s three-argument version produces a sequence of integers from its first argument’s value up to, but not including, the second argument’s value, incrementing by the third argument’s value, which is known as the step:\n"
      ]
    },
    {
      "cell_type": "code",
      "metadata": {
        "id": "raqcsOM6ABv4",
        "outputId": "3e2926e9-4241-4889-8361-fb8185c7ace1",
        "colab": {
          "base_uri": "https://localhost:8080/",
          "height": 34
        }
      },
      "source": [
        "for number in range(0,10,2):\n",
        "  print(number, end=\" \")"
      ],
      "execution_count": null,
      "outputs": [
        {
          "output_type": "stream",
          "text": [
            "0 2 4 6 8 "
          ],
          "name": "stdout"
        }
      ]
    },
    {
      "cell_type": "markdown",
      "metadata": {
        "id": "4n0Wzf-MA4gL"
      },
      "source": [
        "If the third argument is negative, the sequence progresses from the first argument’s value down to, but not including the second argument’s value, decrementing by the third argument’s value, as in:\n"
      ]
    },
    {
      "cell_type": "code",
      "metadata": {
        "id": "M1KUsCkgAZmv",
        "outputId": "f640ac4e-b7c2-4e1a-c09d-f0726605eea3",
        "colab": {
          "base_uri": "https://localhost:8080/",
          "height": 34
        }
      },
      "source": [
        "for number in range(10,0,-2):\n",
        "  print(number, end=\" \")"
      ],
      "execution_count": null,
      "outputs": [
        {
          "output_type": "stream",
          "text": [
            "10 8 6 4 2 "
          ],
          "name": "stdout"
        }
      ]
    },
    {
      "cell_type": "markdown",
      "metadata": {
        "id": "EV15Fh_tBQbQ"
      },
      "source": [
        "*Number table print using range function*\n",
        "\n",
        "\n",
        "---\n",
        "\n",
        "\n",
        "\n",
        "---\n",
        "\n",
        "\n",
        "\n",
        "Take an input from user and print the number table"
      ]
    },
    {
      "cell_type": "code",
      "metadata": {
        "id": "Ebkd2RrwA-dg",
        "outputId": "b9668e21-859d-48ed-8f19-46ba0b1b60fc",
        "colab": {
          "base_uri": "https://localhost:8080/",
          "height": 34
        }
      },
      "source": [
        "number =  int(input())\n"
      ],
      "execution_count": null,
      "outputs": [
        {
          "output_type": "stream",
          "text": [
            "87\n"
          ],
          "name": "stdout"
        }
      ]
    },
    {
      "cell_type": "code",
      "metadata": {
        "id": "hz-bXkJhB6jS",
        "outputId": "9dac2d68-3cfe-4e36-b516-49bcce5ac388",
        "colab": {
          "base_uri": "https://localhost:8080/",
          "height": 204
        }
      },
      "source": [
        "num=int(input(\"Enter any integer number: \"))\n",
        "for i in range(1,11):\n",
        "    print(f\"{num} X {i} = \",num*i)"
      ],
      "execution_count": null,
      "outputs": [
        {
          "output_type": "stream",
          "text": [
            "Enter any integer number: 12\n",
            "12 X 1 =  12\n",
            "12 X 2 =  24\n",
            "12 X 3 =  36\n",
            "12 X 4 =  48\n",
            "12 X 5 =  60\n",
            "12 X 6 =  72\n",
            "12 X 7 =  84\n",
            "12 X 8 =  96\n",
            "12 X 9 =  108\n",
            "12 X 10 =  120\n"
          ],
          "name": "stdout"
        }
      ]
    },
    {
      "cell_type": "markdown",
      "metadata": {
        "id": "PRuD4YmmCMiP"
      },
      "source": [
        "*Nested For Loop*\n",
        "\n",
        "\n",
        "---\n",
        "\n"
      ]
    },
    {
      "cell_type": "code",
      "metadata": {
        "id": "YR2gyY3GCHcP",
        "outputId": "18a8fc20-acaf-485d-c3ab-f0103d8568c3",
        "colab": {
          "base_uri": "https://localhost:8080/",
          "height": 153
        }
      },
      "source": [
        "for left in range(8):\n",
        "    for right in range(left,8):\n",
        "        print(\"[\"+str(left)+\"|\"+str(right)+\"]\", end =\" \")\n",
        "    print()"
      ],
      "execution_count": null,
      "outputs": [
        {
          "output_type": "stream",
          "text": [
            "[0|0] [0|1] [0|2] [0|3] [0|4] [0|5] [0|6] [0|7] \n",
            "[1|1] [1|2] [1|3] [1|4] [1|5] [1|6] [1|7] \n",
            "[2|2] [2|3] [2|4] [2|5] [2|6] [2|7] \n",
            "[3|3] [3|4] [3|5] [3|6] [3|7] \n",
            "[4|4] [4|5] [4|6] [4|7] \n",
            "[5|5] [5|6] [5|7] \n",
            "[6|6] [6|7] \n",
            "[7|7] \n"
          ],
          "name": "stdout"
        }
      ]
    },
    {
      "cell_type": "markdown",
      "metadata": {
        "id": "vFfUHE2SCzJA"
      },
      "source": [
        "Break statement"
      ]
    },
    {
      "cell_type": "code",
      "metadata": {
        "id": "382EUWgdCiIH",
        "outputId": "7517a05b-8bd8-4005-c63a-340bbe845c27",
        "colab": {
          "base_uri": "https://localhost:8080/",
          "height": 34
        }
      },
      "source": [
        "for number in range(20):\n",
        "  if  number==15:\n",
        "    break\n",
        "  print(number, end=\" \")\n",
        "    "
      ],
      "execution_count": null,
      "outputs": [
        {
          "output_type": "stream",
          "text": [
            "0 1 2 3 4 5 6 7 8 9 10 11 12 13 14 "
          ],
          "name": "stdout"
        }
      ]
    },
    {
      "cell_type": "markdown",
      "metadata": {
        "id": "sqHMtufsDSbn"
      },
      "source": [
        "Continue statement"
      ]
    },
    {
      "cell_type": "code",
      "metadata": {
        "id": "85e79HleDQaJ",
        "outputId": "2c3b081b-7bcb-417d-f340-a821b009dc4e",
        "colab": {
          "base_uri": "https://localhost:8080/",
          "height": 34
        }
      },
      "source": [
        "for number in range(10):\n",
        "  if  number==5:\n",
        "    continue\n",
        "  print(number, end=\" \")"
      ],
      "execution_count": null,
      "outputs": [
        {
          "output_type": "stream",
          "text": [
            "0 1 2 3 4 6 7 8 9 "
          ],
          "name": "stdout"
        }
      ]
    },
    {
      "cell_type": "code",
      "metadata": {
        "id": "CkJzGaf1DU8X"
      },
      "source": [
        ""
      ],
      "execution_count": null,
      "outputs": []
    },
    {
      "cell_type": "markdown",
      "metadata": {
        "id": "ZdEeJTlhFFpA"
      },
      "source": [
        "# **Beginner Problem solving from Uri Online Judge**\n",
        "\n",
        "\n",
        "---\n",
        "\n",
        "# [Uri Online Judge](https://www.urionlinejudge.com.br/judge/en/problems/index/1)\n",
        "\n",
        "\n",
        "---\n",
        "\n",
        "\n",
        "> Some basic problem for practice\n",
        "\n",
        "\n",
        "> [Extremely Basic](https://www.urionlinejudge.com.br/judge/en/problems/view/1001)\n",
        "\n",
        "\n",
        "> [Area of a Circle](https://www.urionlinejudge.com.br/judge/en/problems/view/1002)\n",
        "\n",
        "> [Difference](https://www.urionlinejudge.com.br/judge/en/problems/view/1007)\n",
        "\n",
        "> [Age in Days](https://www.urionlinejudge.com.br/judge/en/problems/view/1020)\n",
        "\n",
        "\n",
        "\n",
        "\n",
        "\n",
        "\n",
        "\n",
        "\n",
        "\n",
        "\n",
        "\n",
        "\n",
        "\n",
        "\n"
      ]
    },
    {
      "cell_type": "markdown",
      "metadata": {
        "id": "qNHfOoZpo9uh"
      },
      "source": [
        "#Uri problem solving"
      ]
    },
    {
      "cell_type": "markdown",
      "metadata": {
        "id": "oHs6zEU4pCqA"
      },
      "source": [
        "#Extremely Basic problem (uri 1001)"
      ]
    },
    {
      "cell_type": "code",
      "metadata": {
        "id": "x4Ag7MRSFp7T",
        "outputId": "7fcb948d-1ad8-4d29-b57a-887ac33062cc",
        "colab": {
          "base_uri": "https://localhost:8080/",
          "height": 68
        }
      },
      "source": [
        "A=int(input())\n",
        "B=int(input())\n",
        "X=A+B\n",
        "print(\"X = %i\"%X)"
      ],
      "execution_count": null,
      "outputs": [
        {
          "output_type": "stream",
          "text": [
            "10\n",
            "9\n",
            "X = 19\n"
          ],
          "name": "stdout"
        }
      ]
    },
    {
      "cell_type": "markdown",
      "metadata": {
        "id": "ht_kiBVjpKzU"
      },
      "source": [
        "#Area of circle(uri 1002)"
      ]
    },
    {
      "cell_type": "code",
      "metadata": {
        "id": "zYRyV5B_o2my",
        "outputId": "959121ad-382d-4b1a-c0b1-6cede38a6ad4",
        "colab": {
          "base_uri": "https://localhost:8080/",
          "height": 51
        }
      },
      "source": [
        "n=float(input())\n",
        "A=3.14159*n*n\n",
        "print(\"A=%.4f\"%A)\n"
      ],
      "execution_count": null,
      "outputs": [
        {
          "output_type": "stream",
          "text": [
            "100.2\n",
            "A=31541.6893\n"
          ],
          "name": "stdout"
        }
      ]
    },
    {
      "cell_type": "markdown",
      "metadata": {
        "id": "KCBsnFkMqEF7"
      },
      "source": [
        "#Difference (uri 1007)"
      ]
    },
    {
      "cell_type": "code",
      "metadata": {
        "id": "RHyruxg4pT6q",
        "outputId": "5a5a29d5-076a-40ff-d33f-61d635ef4d7e",
        "colab": {
          "base_uri": "https://localhost:8080/",
          "height": 102
        }
      },
      "source": [
        "A=int(input())\n",
        "B=int(input())\n",
        "C=int(input())\n",
        "D=int(input())\n",
        "\n",
        "result=(A*B) -(C*D)\n",
        "print(\"DIFERENCA = %i\"%result)"
      ],
      "execution_count": null,
      "outputs": [
        {
          "output_type": "stream",
          "text": [
            "5\n",
            "6\n",
            "7\n",
            "8\n",
            "DIFERENCA = -26\n"
          ],
          "name": "stdout"
        }
      ]
    },
    {
      "cell_type": "markdown",
      "metadata": {
        "id": "eig5OgmYwnVh"
      },
      "source": [
        ""
      ]
    },
    {
      "cell_type": "markdown",
      "metadata": {
        "id": "NLMgnv4cwpWs"
      },
      "source": [
        "#Age in Days(uri 1020)"
      ]
    },
    {
      "cell_type": "code",
      "metadata": {
        "id": "d7ip65PywhQe",
        "outputId": "b7a703b0-e1d1-4132-af94-0a3181236938",
        "colab": {
          "base_uri": "https://localhost:8080/",
          "height": 85
        }
      },
      "source": [
        "a=int(input())\n",
        "y=a/365\n",
        "tem1=a%365\n",
        "m=tem1/30\n",
        "tem2=tem1%30\n",
        "print(\"%d ano(s)\"%y)\n",
        "print(\"%d mes(es)\"%m)\n",
        "print(\"%d dia(s)\"%tem2)\n",
        "\n"
      ],
      "execution_count": null,
      "outputs": [
        {
          "output_type": "stream",
          "text": [
            "800\n",
            "2 ano(s)\n",
            "2 mes(es)\n",
            "10 dia(s)\n"
          ],
          "name": "stdout"
        }
      ]
    }
  ]
}