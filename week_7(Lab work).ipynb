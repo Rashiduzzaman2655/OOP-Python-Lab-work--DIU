{
  "nbformat": 4,
  "nbformat_minor": 0,
  "metadata": {
    "colab": {
      "name": "Copy of week_7_OOP_python.ipynb",
      "provenance": [],
      "collapsed_sections": [],
      "include_colab_link": true
    },
    "kernelspec": {
      "name": "python3",
      "display_name": "Python 3"
    }
  },
  "cells": [
    {
      "cell_type": "markdown",
      "metadata": {
        "id": "view-in-github",
        "colab_type": "text"
      },
      "source": [
        "<a href=\"https://colab.research.google.com/github/Rashiduzzaman2655/OOP-Python-Lab-work--DIU/blob/master/week_7(Lab%20work).ipynb\" target=\"_parent\"><img src=\"https://colab.research.google.com/assets/colab-badge.svg\" alt=\"Open In Colab\"/></a>"
      ]
    },
    {
      "cell_type": "markdown",
      "metadata": {
        "id": "UekDxd4Bss9c"
      },
      "source": [
        "# Python class and create object"
      ]
    },
    {
      "cell_type": "code",
      "metadata": {
        "colab": {
          "base_uri": "https://localhost:8080/"
        },
        "id": "rCmq1jViA_h2",
        "outputId": "fc8ace03-26d9-4fd8-8564-55dbd5568fb3"
      },
      "source": [
        "class student():\n",
        "\n",
        "  def prin(self):  \n",
        "    print(\"**Daffodil International University**\\n\")\n",
        "class blood_Test(student):\n",
        "  def __init__ (self,name,id,blood):\n",
        "     self.name=name\n",
        "     self.id=id\n",
        "     self.blood=blood\n",
        "  def blood_group(self):\n",
        "     print(\"ID: \"f'{self.id}',\"\\nName: \"f'{self.name}',\"\\nBlood Group: \"f'{self.blood}')\n",
        "\n",
        "obj=blood_Test(\"shakil\",\"191-15-2655\",\"A+\")\n",
        "obj.prin()\n",
        "obj.blood_group()     "
      ],
      "execution_count": null,
      "outputs": [
        {
          "output_type": "stream",
          "text": [
            "**Daffodil International University**\n",
            "\n",
            "ID: 191-15-2655 \n",
            "Name: shakil \n",
            "Blood Group: A+\n"
          ],
          "name": "stdout"
        }
      ]
    },
    {
      "cell_type": "code",
      "metadata": {
        "colab": {
          "base_uri": "https://localhost:8080/"
        },
        "id": "k-zkdWJSIxFD",
        "outputId": "b5593135-8f7a-4348-fe2a-946fe6347508"
      },
      "source": [
        "class Calculation1:  \n",
        "    def Summation(self,a,b):  \n",
        "        return a+b;  \n",
        "\n",
        "class Calculation2:  \n",
        "    def Multiplication(self,a,b):  \n",
        "        return a*b;  \n",
        "\n",
        "class Derived(Calculation1,Calculation2):  \n",
        "    def Divide(self,a,b):  \n",
        "        return a/b;  \n",
        "\n",
        "d = Derived()  \n",
        "print(d.Summation(10,20))  \n",
        "print(d.Multiplication(10,20))  \n",
        "print(d.Divide(10,20))  \n"
      ],
      "execution_count": null,
      "outputs": [
        {
          "output_type": "stream",
          "text": [
            "30\n",
            "200\n",
            "0.5\n"
          ],
          "name": "stdout"
        }
      ]
    },
    {
      "cell_type": "code",
      "metadata": {
        "id": "60tuubKKqsYS",
        "colab": {
          "base_uri": "https://localhost:8080/"
        },
        "outputId": "0364ad0e-d335-4c58-8cd1-b12a08cbb145"
      },
      "source": [
        "class NameOfClass():\n",
        "  def __init__(self, name, age):\n",
        "    self.name = name\n",
        "    self.age = age\n",
        "  \n",
        "  def someMethod(self):\n",
        "    #perfrom some action \n",
        "    print(\"Name: %s\\nAge :%s\"%(self.name,self.age))\n",
        "\n",
        "obj=NameOfClass('Shakil','21')\n",
        "obj.someMethod();   "
      ],
      "execution_count": null,
      "outputs": [
        {
          "output_type": "stream",
          "text": [
            "Name: Shakil\n",
            "Age :21\n"
          ],
          "name": "stdout"
        }
      ]
    },
    {
      "cell_type": "markdown",
      "metadata": {
        "id": "oVcT3nsetl1c"
      },
      "source": [
        "# Create a Animal class"
      ]
    },
    {
      "cell_type": "code",
      "metadata": {
        "id": "3lSwzUKT2rdp"
      },
      "source": [
        "class flower():\n",
        "  def __init__(self,name,colour):\n",
        "    self.name=name\n",
        "    self.color=colour\n",
        "  def national_flower(self):\n",
        "    print(f'{self.name}', \"is the national flower in Bangladesh. which color is generally \" f'{self.color}')\n",
        "  def favourite(self):\n",
        "    print(f'{self.name}', \"is the most favourite flower all of the people. which color is generally \" f'{self.color}')\n"
      ],
      "execution_count": null,
      "outputs": []
    },
    {
      "cell_type": "code",
      "metadata": {
        "colab": {
          "base_uri": "https://localhost:8080/"
        },
        "id": "p1MfE8gB4SGP",
        "outputId": "699389b7-92e4-4b98-c8a1-09fa34cbe2ce"
      },
      "source": [
        "obj=flower(\"Lily\",\"white\")\n",
        "obj.national_flower()\n",
        "\n",
        "obj1=flower(\"Rose\",\"Red\")\n",
        "obj1.favourite()"
      ],
      "execution_count": null,
      "outputs": [
        {
          "output_type": "stream",
          "text": [
            "Lily is the national flower in Bangladesh. which color is generally white\n",
            "Rose is the most favourite flower all of the people. which color is generally Red\n"
          ],
          "name": "stdout"
        }
      ]
    },
    {
      "cell_type": "code",
      "metadata": {
        "id": "5M8P8ovKtk-Q"
      },
      "source": [
        "class Animal():\n",
        "  def __init__(self, name, colour):\n",
        "    self.name = name\n",
        "    self.colour = colour\n",
        "  def running(self):\n",
        "    print(f'hey! i am {self.name}, now i am running!')\n",
        "  def drinkingMilk(self):\n",
        "    print(f'hey! i am {self.name}, now i am drinking mlik!')"
      ],
      "execution_count": null,
      "outputs": []
    },
    {
      "cell_type": "markdown",
      "metadata": {
        "id": "GfEIx116xH-U"
      },
      "source": [
        "# Create object"
      ]
    },
    {
      "cell_type": "code",
      "metadata": {
        "id": "bHusC_2exGQc"
      },
      "source": [
        "tom=Animal('tom', 'gray')\n",
        "jerry=Animal('jerry', 'browon')"
      ],
      "execution_count": null,
      "outputs": []
    },
    {
      "cell_type": "markdown",
      "metadata": {
        "id": "6YorbSpczZJj"
      },
      "source": [
        "# Understanding object attribute\n",
        "\n"
      ]
    },
    {
      "cell_type": "code",
      "metadata": {
        "id": "EJW4c6_6yB0u",
        "colab": {
          "base_uri": "https://localhost:8080/"
        },
        "outputId": "4942898b-184b-4931-f4f7-3cd2221c7b42"
      },
      "source": [
        "print(f'hey! i am {tom.name} and my colour is: {tom.colour}')\n",
        "print(f'hey! i am {jerry.name} and my colour is: {jerry.colour}')"
      ],
      "execution_count": null,
      "outputs": [
        {
          "output_type": "stream",
          "text": [
            "hey! i am tom and my colour is: gray\n",
            "hey! i am jerry and my colour is: browon\n"
          ],
          "name": "stdout"
        }
      ]
    },
    {
      "cell_type": "markdown",
      "metadata": {
        "id": "zEF3UnJu1S_Y"
      },
      "source": [
        "# Understanding object behaviour"
      ]
    },
    {
      "cell_type": "code",
      "metadata": {
        "id": "N5QbwtRI0VU9",
        "colab": {
          "base_uri": "https://localhost:8080/"
        },
        "outputId": "912bf0ca-7f7c-48dd-f64b-b4a760a72ad0"
      },
      "source": [
        "#print tom behaviour\n",
        "tom.running()\n",
        "tom.drinkingMilk()\n",
        "\n",
        "#print jerry behaviour\n",
        "jerry.running()\n",
        "jerry.drinkingMilk()"
      ],
      "execution_count": null,
      "outputs": [
        {
          "output_type": "stream",
          "text": [
            "hey! i am tom, now i am running!\n",
            "hey! i am tom, now i am drinking mlik!\n",
            "hey! i am jerry, now i am running!\n",
            "hey! i am jerry, now i am drinking mlik!\n"
          ],
          "name": "stdout"
        }
      ]
    },
    {
      "cell_type": "markdown",
      "metadata": {
        "id": "t0cOQ9NJRh5W"
      },
      "source": [
        "# The self Parameter"
      ]
    },
    {
      "cell_type": "code",
      "metadata": {
        "id": "x4l5ekSY13JZ",
        "colab": {
          "base_uri": "https://localhost:8080/"
        },
        "outputId": "f2a6b18e-c6da-4e52-f36f-02068c00b80c"
      },
      "source": [
        "class Animal():\n",
        "  def __init__(self, objectName, objectColour):\n",
        "    self.name = objectName\n",
        "    self.colour = objectColour\n",
        "\n",
        "tom=Animal('tom', 'gray')\n",
        "jerry=Animal('jerry', 'browon')\n",
        "\n",
        "print(f'hey! i am {tom.name} and my colour is: {tom.colour}')\n",
        "print(f'hey! i am {jerry.name} and my colour is: {jerry.colour}')"
      ],
      "execution_count": null,
      "outputs": [
        {
          "output_type": "stream",
          "text": [
            "hey! i am tom and my colour is: gray\n",
            "hey! i am jerry and my colour is: browon\n"
          ],
          "name": "stdout"
        }
      ]
    },
    {
      "cell_type": "code",
      "metadata": {
        "id": "AbHRyYgmT4Dq",
        "colab": {
          "base_uri": "https://localhost:8080/"
        },
        "outputId": "cb996a38-ad2c-48ee-d4c2-a55430d73684"
      },
      "source": [
        "class Animal():\n",
        "  def __init__(this, objectName, objectColour):\n",
        "    this.name = objectName\n",
        "    this.colour = objectColour\n",
        "\n",
        "tom=Animal('tom', 'gray')\n",
        "jerry=Animal('jerry', 'browon')\n",
        " \n",
        "print(f'hey! i am {tom.name} and my colour is: {tom.colour}')\n",
        "print(f'hey! i am {jerry.name} and my colour is: {jerry.colour}')"
      ],
      "execution_count": null,
      "outputs": [
        {
          "output_type": "stream",
          "text": [
            "hey! i am tom and my colour is: gray\n",
            "hey! i am jerry and my colour is: browon\n"
          ],
          "name": "stdout"
        }
      ]
    },
    {
      "cell_type": "markdown",
      "metadata": {
        "id": "U6F8pXaEXWU4"
      },
      "source": [
        "# The __init__() Function\n"
      ]
    },
    {
      "cell_type": "code",
      "metadata": {
        "id": "qWKjIUNLVGdD",
        "colab": {
          "base_uri": "https://localhost:8080/"
        },
        "outputId": "863c9018-89cb-44e5-c224-481baee16b8e"
      },
      "source": [
        "#create class\n",
        "class Animal():\n",
        "  def __init__(self):\n",
        "    print(f'hello! i am init()!')\n",
        "\n",
        "#create object\n",
        "tom=Animal()"
      ],
      "execution_count": null,
      "outputs": [
        {
          "output_type": "stream",
          "text": [
            "hello! i am init()!\n"
          ],
          "name": "stdout"
        }
      ]
    },
    {
      "cell_type": "markdown",
      "metadata": {
        "id": "RNh05kEBakMZ"
      },
      "source": [
        "# Class object Attribute\n"
      ]
    },
    {
      "cell_type": "code",
      "metadata": {
        "id": "qPYN7DnuZMZb",
        "colab": {
          "base_uri": "https://localhost:8080/"
        },
        "outputId": "3726d9bd-796d-4433-ba3f-5d87d78d4f15"
      },
      "source": [
        "class Animal():\n",
        "\n",
        "  species = 'mammal'\n",
        "  def __init__(self, name, colour):\n",
        "\n",
        "    self.name = name\n",
        "    self.colour = colour\n",
        "\n",
        "tom=Animal('tom', 'gray')\n",
        "jerry=Animal('jerry', 'browon')\n",
        "\n",
        "print(tom.species)\n",
        "print(jerry.species)"
      ],
      "execution_count": null,
      "outputs": [
        {
          "output_type": "stream",
          "text": [
            "mammal\n",
            "mammal\n"
          ],
          "name": "stdout"
        }
      ]
    },
    {
      "cell_type": "code",
      "metadata": {
        "id": "6zkYrCMFcqlY"
      },
      "source": [
        ""
      ],
      "execution_count": null,
      "outputs": []
    }
  ]
}