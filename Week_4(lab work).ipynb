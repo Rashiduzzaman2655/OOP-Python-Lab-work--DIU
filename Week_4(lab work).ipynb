{
  "nbformat": 4,
  "nbformat_minor": 0,
  "metadata": {
    "colab": {
      "name": "Copy of Copy of Lab Session 4.ipynb",
      "provenance": [],
      "include_colab_link": true
    },
    "kernelspec": {
      "name": "python3",
      "display_name": "Python 3"
    }
  },
  "cells": [
    {
      "cell_type": "markdown",
      "metadata": {
        "id": "view-in-github",
        "colab_type": "text"
      },
      "source": [
        "<a href=\"https://colab.research.google.com/github/Rashiduzzaman2655/OOP-Python-Lab-work--DIU/blob/master/Week_4(lab%20work).ipynb\" target=\"_parent\"><img src=\"https://colab.research.google.com/assets/colab-badge.svg\" alt=\"Open In Colab\"/></a>"
      ]
    },
    {
      "cell_type": "code",
      "metadata": {
        "id": "dv5fgiINPQhy",
        "outputId": "fda2d9f8-e0a8-408c-e563-cf6bbe9246c1",
        "colab": {
          "base_uri": "https://localhost:8080/",
          "height": 72
        }
      },
      "source": [
        "#creating list\n",
        "\n",
        "lst0=[\"apple\",\"orrange\",\"banana\",\"coconut\",\"water-melon\"]\n",
        "print(lst0)\n",
        "lst1=[]\n",
        "print(lst1)\n",
        "lst2=lst0\n",
        "print(lst2)"
      ],
      "execution_count": 43,
      "outputs": [
        {
          "output_type": "stream",
          "text": [
            "['apple', 'orrange', 'banana', 'coconut', 'water-melon']\n",
            "[]\n",
            "['apple', 'orrange', 'banana', 'coconut', 'water-melon']\n"
          ],
          "name": "stdout"
        }
      ]
    },
    {
      "cell_type": "code",
      "metadata": {
        "id": "OzhLaNmjPibF",
        "outputId": "881db4d0-2353-4cfd-a886-39173a04eac6",
        "colab": {
          "base_uri": "https://localhost:8080/",
          "height": 35
        }
      },
      "source": [
        "#iterating list\n",
        "\n",
        "lst0=[78,-78,97,2.23,\"android\",43.23,\"java\",[2,32,3]]\n",
        "for i in lst0:\n",
        "    print(i,end=' ')\n",
        "print('')"
      ],
      "execution_count": 44,
      "outputs": [
        {
          "output_type": "stream",
          "text": [
            "78 -78 97 2.23 android 43.23 java [2, 32, 3] \n"
          ],
          "name": "stdout"
        }
      ]
    },
    {
      "cell_type": "code",
      "metadata": {
        "id": "KNxT03XVQl1s",
        "outputId": "5f1c7d5d-b547-4ad7-833a-8d56c8839eca",
        "colab": {
          "base_uri": "https://localhost:8080/",
          "height": 90
        }
      },
      "source": [
        "#iterating list\n",
        "\n",
        "lst0=[1,2,3,32,2.23,43.23,\"python\",[2,32,3]]\n",
        "print(lst0[2])\n",
        "print(lst0[6])\n",
        "print(lst0[-2])\n",
        "print(lst0[-7])"
      ],
      "execution_count": 1,
      "outputs": [
        {
          "output_type": "stream",
          "text": [
            "3\n",
            "python\n",
            "python\n",
            "2\n"
          ],
          "name": "stdout"
        }
      ]
    },
    {
      "cell_type": "code",
      "metadata": {
        "id": "068-O8s6RPqT",
        "outputId": "51d73cf0-8931-4f32-e10b-b564acf197e6",
        "colab": {
          "base_uri": "https://localhost:8080/",
          "height": 181
        }
      },
      "source": [
        "#List operations\n",
        "\n",
        "lst0=[25,'Rashiduzzaman',197,25,-35,55.43,[52,48]]\n",
        "\n",
        "print(len(lst0))                #len( ) gives the length of the list\n",
        "\n",
        "lst0.append(['191-15-2655',488,80])        #append( ) inserts an element to the end of the list\n",
        "print(lst0)\n",
        "\n",
        "lst0.insert(2,\"java\")         #insert( ) insertes an element on a given index\n",
        "print(lst0)\n",
        "\n",
        "lst0.remove(\"java\")                  #remove( ) removes first occurence of an element\n",
        "print(lst0)\n",
        "\n",
        "print(lst0.index(\"Rashiduzzaman\"))     #index( ) returns index of first occurence of an element\n",
        "\n",
        "print(lst0.count(25))     #count( ) reuturns the number of occurence of an element\n",
        "\n",
        "print(lst0.reverse())           #reverse( ) makes a reverse list\n",
        "\n",
        "lst1=lst0.copy()                #copy( ) makes a copy of list\n",
        "print(lst1)\n",
        "\n",
        "lst0.clear()                    #clear( ) makes the list empty\n",
        "print(lst0)"
      ],
      "execution_count": 57,
      "outputs": [
        {
          "output_type": "stream",
          "text": [
            "7\n",
            "[25, 'Rashiduzzaman', 197, 25, -35, 55.43, [52, 48], ['191-15-2655', 488, 80]]\n",
            "[25, 'Rashiduzzaman', 'java', 197, 25, -35, 55.43, [52, 48], ['191-15-2655', 488, 80]]\n",
            "[25, 'Rashiduzzaman', 197, 25, -35, 55.43, [52, 48], ['191-15-2655', 488, 80]]\n",
            "1\n",
            "2\n",
            "None\n",
            "[['191-15-2655', 488, 80], [52, 48], 55.43, -35, 25, 197, 'Rashiduzzaman', 25]\n",
            "[]\n"
          ],
          "name": "stdout"
        }
      ]
    },
    {
      "cell_type": "code",
      "metadata": {
        "id": "XX6Mc-G5p79w",
        "outputId": "cd3d8697-fb84-4b80-bfa7-99a75a32281e",
        "colab": {
          "base_uri": "https://localhost:8080/",
          "height": 108
        }
      },
      "source": [
        "list=[12,5,-45,4]\n",
        "sort_list=sorted(list)\n",
        "print(sort_list)\n",
        "list.insert(2,29)\n",
        "print(list)\n",
        "list.append(\"Rashiduzzaman\")\n",
        "print(list)\n",
        "copy_list=list.copy()\n",
        "print(copy_list)\n",
        "list.reverse()\n",
        "print(list)"
      ],
      "execution_count": 46,
      "outputs": [
        {
          "output_type": "stream",
          "text": [
            "[-45, 4, 5, 12]\n",
            "[12, 5, 29, -45, 4]\n",
            "[12, 5, 29, -45, 4, 'Rashiduzzaman']\n",
            "[12, 5, 29, -45, 4, 'Rashiduzzaman']\n",
            "['Rashiduzzaman', 4, -45, 29, 5, 12]\n"
          ],
          "name": "stdout"
        }
      ]
    },
    {
      "cell_type": "code",
      "metadata": {
        "id": "Efc_Q8FCU1RZ",
        "outputId": "1641ef3f-0b61-4e99-9c45-3dfa4e1977b2",
        "colab": {
          "base_uri": "https://localhost:8080/",
          "height": 90
        }
      },
      "source": [
        "#lsit slicing\n",
        "\n",
        "lst0=[3,32,78,-78,97,2.23,\"android\",43.23,\"java\"]\n",
        "\n",
        "print(lst0[2:7])\n",
        "print(lst0[2:])\n",
        "print(lst0[:5])\n",
        "print(lst0[:])"
      ],
      "execution_count": 50,
      "outputs": [
        {
          "output_type": "stream",
          "text": [
            "[78, -78, 97, 2.23, 'android']\n",
            "[78, -78, 97, 2.23, 'android', 43.23, 'java']\n",
            "[3, 32, 78, -78, 97]\n",
            "[3, 32, 78, -78, 97, 2.23, 'android', 43.23, 'java']\n"
          ],
          "name": "stdout"
        }
      ]
    },
    {
      "cell_type": "code",
      "metadata": {
        "id": "VcznBtQPWFD1",
        "outputId": "a1af31ca-f788-488c-cba3-c846a9d497b4",
        "colab": {
          "base_uri": "https://localhost:8080/",
          "height": 72
        }
      },
      "source": [
        "#list sorting\n",
        "\n",
        "lst2=[78,-78,97,2.23,78,43.23,-78]\n",
        "\n",
        "lst3=sorted(lst2)\n",
        "print(lst3)\n",
        "print(lst2)\n",
        "lst2.sort()\n",
        "print(lst2)"
      ],
      "execution_count": 54,
      "outputs": [
        {
          "output_type": "stream",
          "text": [
            "[-78, -78, 2.23, 43.23, 78, 78, 97]\n",
            "[78, -78, 97, 2.23, 78, 43.23, -78]\n",
            "[-78, -78, 2.23, 43.23, 78, 78, 97]\n"
          ],
          "name": "stdout"
        }
      ]
    },
    {
      "cell_type": "code",
      "metadata": {
        "id": "CsnsqMPsWn6m",
        "outputId": "977720f9-a0f1-4b7a-9bdf-e0753a767fbf",
        "colab": {
          "base_uri": "https://localhost:8080/",
          "height": 72
        }
      },
      "source": [
        "#creating tuple\n",
        "\n",
        "tp0=(1,2,3,32,2.23,43.23,\"python\",[2,32,3])\n",
        "print(tp0)\n",
        "tp1=()\n",
        "print(tp1)\n",
        "tp2=tuple()\n",
        "print(tp2)"
      ],
      "execution_count": 55,
      "outputs": [
        {
          "output_type": "stream",
          "text": [
            "(1, 2, 3, 32, 2.23, 43.23, 'python', [2, 32, 3])\n",
            "()\n",
            "()\n"
          ],
          "name": "stdout"
        }
      ]
    },
    {
      "cell_type": "code",
      "metadata": {
        "id": "zqLQKHBrXNxY",
        "outputId": "9f4b7606-875e-463b-e9e3-be62a15b8021",
        "colab": {
          "base_uri": "https://localhost:8080/",
          "height": 34
        }
      },
      "source": [
        "#iterating tuple\n",
        "\n",
        "tp0=(1,2,3,32,2.23,43.23,\"python\",[2,32,3])\n",
        "for i in tp0:\n",
        "    print(i,end=' ')\n",
        "print('')"
      ],
      "execution_count": null,
      "outputs": [
        {
          "output_type": "stream",
          "text": [
            "1 2 3 32 2.23 43.23 python [2, 32, 3] \n"
          ],
          "name": "stdout"
        }
      ]
    },
    {
      "cell_type": "code",
      "metadata": {
        "id": "KZUEXf9KXyFq",
        "outputId": "72ea302a-3960-4913-a684-9692a7c0a7ef",
        "colab": {
          "base_uri": "https://localhost:8080/",
          "height": 90
        }
      },
      "source": [
        "#iterating tuple\n",
        "\n",
        "tp0=(40,-20,56,-189,23.54,\"java\",[98,33])\n",
        "print(tp0[2])\n",
        "print(tp0[6])\n",
        "print(tp0[-2])\n",
        "print(tp0[-2])"
      ],
      "execution_count": 19,
      "outputs": [
        {
          "output_type": "stream",
          "text": [
            "56\n",
            "[98, 33]\n",
            "java\n",
            "java\n"
          ],
          "name": "stdout"
        }
      ]
    },
    {
      "cell_type": "code",
      "metadata": {
        "id": "J0R9_6tYYU6j",
        "outputId": "abc2da9d-5273-4a24-e7c9-8108e7270ff9",
        "colab": {
          "base_uri": "https://localhost:8080/",
          "height": 35
        }
      },
      "source": [
        "#inserting into tuple\n",
        "\n",
        "tp0=(40,-20,56,-189,23.54,\"java\",[98,33])\n",
        "tp0+=(\"Android\",22,43,312,87)\n",
        "print(tp0)"
      ],
      "execution_count": 21,
      "outputs": [
        {
          "output_type": "stream",
          "text": [
            "(40, -20, 56, -189, 23.54, 'java', [98, 33], 'Android', 22, 43, 312, 87)\n"
          ],
          "name": "stdout"
        }
      ]
    },
    {
      "cell_type": "code",
      "metadata": {
        "id": "ZWp59vSEZfJJ",
        "outputId": "6a3c5c32-5158-48c0-85a8-c47696e51f43",
        "colab": {
          "base_uri": "https://localhost:8080/",
          "height": 126
        }
      },
      "source": [
        "#unpacking sequences\n",
        "\n",
        "lst=[21.6,334,4.5,69.3,'Rashiduzzaman','191-15-2655']\n",
        "a,b,c,d,e,f=lst\n",
        "print(a)\n",
        "print(b)\n",
        "print(c)\n",
        "print(d)\n",
        "print(e)\n",
        "print(f)"
      ],
      "execution_count": 27,
      "outputs": [
        {
          "output_type": "stream",
          "text": [
            "21.6\n",
            "334\n",
            "4.5\n",
            "69.3\n",
            "Rashiduzzaman\n",
            "191-15-2655\n"
          ],
          "name": "stdout"
        }
      ]
    },
    {
      "cell_type": "code",
      "metadata": {
        "id": "o-2Xal8TZ1mo",
        "outputId": "dad9b9cf-8533-43a4-de23-e28b5eb960c8",
        "colab": {
          "base_uri": "https://localhost:8080/",
          "height": 108
        }
      },
      "source": [
        "#unpacking sequences\n",
        "\n",
        "tp=(12.4,3,\"Diu\",4.13,66)\n",
        "a,b,c,d,e=tp\n",
        "print(a)\n",
        "print(b)\n",
        "print(c)\n",
        "print(d)\n",
        "print(e)"
      ],
      "execution_count": 26,
      "outputs": [
        {
          "output_type": "stream",
          "text": [
            "12.4\n",
            "3\n",
            "Diu\n",
            "4.13\n",
            "66\n"
          ],
          "name": "stdout"
        }
      ]
    }
  ]
}